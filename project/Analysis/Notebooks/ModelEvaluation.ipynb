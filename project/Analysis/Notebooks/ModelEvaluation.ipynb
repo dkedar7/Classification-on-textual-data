{
 "cells": [
  {
   "cell_type": "code",
   "execution_count": null,
   "metadata": {},
   "outputs": [],
   "source": [
    "import os\\nimport sys\\nimport time\\nimport subprocess"
   ]
  },
  {
   "cell_type": "code",
   "execution_count": null,
   "metadata": {},
   "outputs": [],
   "source": [
    "# Import required modules\\n\\nimport numpy as np\\nimport pandas as pd\\nfrom matplotlib import pyplot as plt\\nimport seaborn as sns\\nfrom tqdm import tqdm\\n\\nfrom sklearn.externals import joblib\\nfrom sklearn.preprocessing import StandardScaler\\nfrom sklearn.preprocessing import MinMaxScaler\\n\\nfrom sklearn.metrics import accuracy_score,f1_score,precision_score,recall_score\\nfrom sklearn.metrics import roc_auc_score,roc_curve,confusion_matrix\\nfrom sklearn.metrics import r2_score,mean_absolute_error,mean_squared_error"
   ]
  },
  {
   "cell_type": "code",
   "execution_count": null,
   "metadata": {},
   "outputs": [],
   "source": [
    "# Import saved models\\nmodel = joblib.load('../Models/SavedModels/')"
   ]
  },
  {
   "cell_type": "code",
   "execution_count": null,
   "metadata": {},
   "outputs": [],
   "source": [
    "pwd"
   ]
  }
 ],
 "metadata": {
  "kernelspec": {
   "display_name": "Python 3",
   "language": "python",
   "name": "python3"
  },
  "language_info": {
   "codemirror_mode": {
    "name": "ipython",
    "version": 3
   },
   "file_extension": ".py",
   "mimetype": "text/x-python",
   "name": "python",
   "nbconvert_exporter": "python",
   "pygments_lexer": "ipython3",
   "version": "3.7.1"
  }
 },
 "nbformat": 4,
 "nbformat_minor": 2
}
